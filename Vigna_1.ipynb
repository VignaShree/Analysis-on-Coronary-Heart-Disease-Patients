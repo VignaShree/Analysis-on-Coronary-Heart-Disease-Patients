{
 "cells": [
  {
   "cell_type": "code",
   "execution_count": 1,
   "metadata": {},
   "outputs": [],
   "source": [
    "import pandas as pd\n",
    "import matplotlib.pyplot as plt\n",
    "import matplotlib as mt\n",
    "import seaborn as sns\n",
    "import numpy as np\n",
    "import datetime as dt\n",
    "import math\n",
    "import sqlite3\n"
   ]
  },
  {
   "cell_type": "code",
   "execution_count": 2,
   "metadata": {},
   "outputs": [],
   "source": [
    "import warnings\n",
    "warnings.filterwarnings(\"ignore\")"
   ]
  },
  {
   "cell_type": "code",
   "execution_count": 3,
   "metadata": {},
   "outputs": [],
   "source": [
    "conn = sqlite3.connect('mimic.db')"
   ]
  },
  {
   "cell_type": "code",
   "execution_count": 4,
   "metadata": {},
   "outputs": [],
   "source": [
    "admissions = pd.read_sql('select * ,(julianday(date(admittime))-julianday(date(dob)))/365.25 as Age_Admit,(julianday(date(dod))-julianday(date(dob)))/365.25 as Age_Death from admissions, patients where admissions.SUBJECT_ID = patients.SUBJECT_ID',conn)\n",
    "Diagnoses_ICD = pd.read_sql('select * from diagnoses_icd',conn)\n",
    "D_ICD_Diagnoses = pd.read_sql('select * from D_ICD_DIAGNOSES',conn)"
   ]
  },
  {
   "cell_type": "code",
   "execution_count": 6,
   "metadata": {},
   "outputs": [],
   "source": [
    "import datetime\n",
    "admissions['DOB'] = admissions['DOB'].replace(r'^\\s*$', np.nan, regex=True)\n",
    "admissions['DOD'] = admissions['DOD'].replace(r'^\\s*$', np.nan, regex=True)\n",
    "admissions['ADMITTIME'] = admissions['ADMITTIME'].replace(r'^\\s*$', np.nan, regex=True)\n",
    "admissions['DISCHTIME'] = admissions['DISCHTIME'].replace(r'^\\s*$', np.nan, regex=True)\n",
    "admissions['DOB'] = pd.to_datetime(admissions['DOB'])\n",
    "admissions['DOD'] = pd.to_datetime(admissions['DOD'])\n",
    "admissions['ADMITTIME'] = pd.to_datetime(admissions['ADMITTIME'])\n",
    "admissions['DISCHTIME'] = pd.to_datetime(admissions['DISCHTIME'])"
   ]
  },
  {
   "cell_type": "code",
   "execution_count": 7,
   "metadata": {},
   "outputs": [],
   "source": [
    "# Dropping the duplicated SUBJECT_ID column\n",
    "data = admissions\n",
    "data = data.loc[:,~data.columns.duplicated()]"
   ]
  },
  {
   "cell_type": "code",
   "execution_count": 8,
   "metadata": {},
   "outputs": [],
   "source": [
    "from collections import Counter\n",
    "# Number of times a patient has been admitted\n",
    "d ={}\n",
    "x = data['SUBJECT_ID']\n",
    "counts = Counter(x)\n",
    "ID = list(counts.keys())\n",
    "cnt = list(counts.values())\n",
    "ID_freq = pd.DataFrame()\n",
    "ID_freq['SUBJECT_ID'] = ID\n",
    "ID_freq['ADMISSIONS_CNT'] = cnt\n",
    "# Merging table\n",
    "data = data.merge(ID_freq, on='SUBJECT_ID')"
   ]
  },
  {
   "cell_type": "code",
   "execution_count": 9,
   "metadata": {},
   "outputs": [],
   "source": [
    "# checking if the patient has experienced heart attack\n",
    "temp = []\n",
    "value = data['DIAGNOSIS']\n",
    "x = int(len(data['DIAGNOSIS']))\n",
    "for i in range(0,x):\n",
    "    #print(value[i])\n",
    "    val = value[i]\n",
    "    #print(val)\n",
    "    if 'MYOCARDIAL' in val:\n",
    "        temp.append('1')\n",
    "    else:\n",
    "        temp.append('0')\n",
    "data['HEART_ATTACK'] = temp"
   ]
  },
  {
   "cell_type": "code",
   "execution_count": 10,
   "metadata": {},
   "outputs": [
    {
     "name": "stdout",
     "output_type": "stream",
     "text": [
      "<class 'pandas.core.frame.DataFrame'>\n",
      "Int64Index: 58976 entries, 0 to 58975\n",
      "Data columns (total 29 columns):\n",
      " #   Column                Non-Null Count  Dtype         \n",
      "---  ------                --------------  -----         \n",
      " 0   ROW_ID                58976 non-null  object        \n",
      " 1   SUBJECT_ID            58976 non-null  object        \n",
      " 2   HADM_ID               58976 non-null  object        \n",
      " 3   ADMITTIME             58976 non-null  datetime64[ns]\n",
      " 4   DISCHTIME             58976 non-null  datetime64[ns]\n",
      " 5   DEATHTIME             58976 non-null  object        \n",
      " 6   ADMISSION_TYPE        58976 non-null  object        \n",
      " 7   ADMISSION_LOCATION    58976 non-null  object        \n",
      " 8   DISCHARGE_LOCATION    58976 non-null  object        \n",
      " 9   INSURANCE             58976 non-null  object        \n",
      " 10  LANGUAGE              58976 non-null  object        \n",
      " 11  RELIGION              58976 non-null  object        \n",
      " 12  MARITAL_STATUS        58976 non-null  object        \n",
      " 13  ETHNICITY             58976 non-null  object        \n",
      " 14  EDREGTIME             58976 non-null  object        \n",
      " 15  EDOUTTIME             58976 non-null  object        \n",
      " 16  DIAGNOSIS             58976 non-null  object        \n",
      " 17  HOSPITAL_EXPIRE_FLAG  58976 non-null  object        \n",
      " 18  HAS_CHARTEVENTS_DATA  58976 non-null  object        \n",
      " 19  GENDER                58976 non-null  object        \n",
      " 20  DOB                   58976 non-null  datetime64[ns]\n",
      " 21  DOD                   22586 non-null  datetime64[ns]\n",
      " 22  DOD_HOSP              58976 non-null  object        \n",
      " 23  DOD_SSN               58976 non-null  object        \n",
      " 24  EXPIRE_FLAG           58976 non-null  object        \n",
      " 25  Age_Admit             58976 non-null  float64       \n",
      " 26  Age_Death             22586 non-null  float64       \n",
      " 27  ADMISSIONS_CNT        58976 non-null  int64         \n",
      " 28  HEART_ATTACK          58976 non-null  object        \n",
      "dtypes: datetime64[ns](4), float64(2), int64(1), object(22)\n",
      "memory usage: 16.0+ MB\n"
     ]
    }
   ],
   "source": [
    "data.info()"
   ]
  },
  {
   "cell_type": "code",
   "execution_count": 11,
   "metadata": {},
   "outputs": [],
   "source": [
    "temp = []\n",
    "for index,row in data.iterrows():\n",
    "    if(row['HOSPITAL_EXPIRE_FLAG'] == '1'):\n",
    "        val = row['DIAGNOSIS']\n",
    "        if 'MYOCARDIAL' in val:\n",
    "            temp.append(1)\n",
    "        elif 'CARDIAC' in val:\n",
    "            temp.append(1)\n",
    "        elif 'HEART' in val:\n",
    "            temp.append(1)\n",
    "        else:\n",
    "            temp.append(0)\n",
    "    else:\n",
    "        temp.append(0)\n",
    "data['HEART_DEATH'] = temp"
   ]
  },
  {
   "cell_type": "code",
   "execution_count": 12,
   "metadata": {},
   "outputs": [],
   "source": [
    "# Develop no letter list\n",
    "list_values = Diagnoses_ICD['ICD9_CODE'].values.tolist()\n",
    "no_letter_list = []\n",
    "for i in range(len(list_values)):\n",
    "    Value = str(list_values[i])\n",
    "    Letter_stripped_value = Value.lstrip('ABCDEFGHIJKLMNOPQRSTUVWXYZ')\n",
    "    no_letter_list.append(Letter_stripped_value)\n",
    "\n",
    "    # Develop no number list\n",
    "list_values = Diagnoses_ICD['ICD9_CODE'].values.tolist()\n",
    "no_number_list= []\n",
    "for i in range(len(list_values)):\n",
    "    Value = str(list_values[i])\n",
    "    number_stripped_value = Value.lstrip('1234567890')\n",
    "    if number_stripped_value:\n",
    "        final_number = number_stripped_value[0]\n",
    "        no_number_list.append(final_number)\n",
    "    else:\n",
    "        no_number_list.append('')      \n",
    "        \n",
    "# Correct three digit codes for V codes where decimal is only in first two spots\n",
    "three_number_list = []\n",
    "for i in range(len(list_values)):\n",
    "    if no_number_list[i] == 'V':\n",
    "        Value = no_letter_list[i] \n",
    "        three_digits = Value[0:2]\n",
    "        three_number_list.append((three_digits))\n",
    "    else:\n",
    "        Value = no_letter_list[i]\n",
    "        three_digits = Value[0:3]\n",
    "        three_number_list.append((three_digits))\n",
    "\n",
    "# Add three number list to diagnoses codes\n",
    "three_number_series = pd.Series(three_number_list)\n",
    "Diagnoses_ICD['Three Numbers'] = three_number_series # Pull only first three numbers (need to fix for letter codes)"
   ]
  },
  {
   "cell_type": "code",
   "execution_count": 13,
   "metadata": {},
   "outputs": [],
   "source": [
    "# collect only ages<90\n",
    "data = data[data['Age_Death'] <= 90]"
   ]
  },
  {
   "cell_type": "code",
   "execution_count": 14,
   "metadata": {},
   "outputs": [],
   "source": [
    "# Pull Data for all Coronary artery disease patients\n",
    "Cor_Diagnoses_ICD = Diagnoses_ICD.loc[Diagnoses_ICD['ICD9_CODE'] == '41401'] # All Coronary Artery disease patients\n",
    "Athero_Diagnoses = pd.DataFrame(Cor_Diagnoses_ICD.SUBJECT_ID)\n",
    "Athero_Diagnoses = Athero_Diagnoses.drop_duplicates()\n",
    "Athero_Diagnoses['ATHERO_DIAGNOSIS_FLAG'] = 1\n",
    "\n",
    "\n",
    "# Merge with demographics file:\n",
    "data = pd.merge(data, Athero_Diagnoses, on= 'SUBJECT_ID', how = 'outer')"
   ]
  },
  {
   "cell_type": "code",
   "execution_count": 15,
   "metadata": {},
   "outputs": [],
   "source": [
    "# Add Atherosclerosis diagnosis flags to demographic data\n",
    "athero_flag = []\n",
    "for entry in range(len(data)):\n",
    "    if data['ATHERO_DIAGNOSIS_FLAG'][entry] == 1:\n",
    "        athero_flag.append(1)\n",
    "    else:\n",
    "        athero_flag.append(0)\n",
    "athero_flag = pd.Series(athero_flag)\n",
    "data['ATHERO_DIAGNOSIS_FLAG'] = athero_flag"
   ]
  },
  {
   "cell_type": "code",
   "execution_count": 16,
   "metadata": {},
   "outputs": [
    {
     "data": {
      "text/plain": [
       "0.0    19858\n",
       "1.0      461\n",
       "Name: HEART_DEATH, dtype: int64"
      ]
     },
     "execution_count": 16,
     "metadata": {},
     "output_type": "execute_result"
    }
   ],
   "source": [
    "# Info of patients died with heart death\n",
    "data['HEART_DEATH'].value_counts() "
   ]
  },
  {
   "cell_type": "code",
   "execution_count": 17,
   "metadata": {},
   "outputs": [
    {
     "data": {
      "text/plain": [
       "(27576, 31)"
      ]
     },
     "execution_count": 17,
     "metadata": {},
     "output_type": "execute_result"
    }
   ],
   "source": [
    "data.shape"
   ]
  },
  {
   "cell_type": "markdown",
   "metadata": {},
   "source": [
    "Data Preprocessing"
   ]
  },
  {
   "cell_type": "code",
   "execution_count": 18,
   "metadata": {},
   "outputs": [],
   "source": [
    "# Get dummies\n",
    "data = pd.get_dummies(data, columns=['GENDER','ETHNICITY','MARITAL_STATUS', 'LANGUAGE', 'RELIGION', 'INSURANCE', 'ADMISSION_LOCATION'])"
   ]
  },
  {
   "cell_type": "code",
   "execution_count": 19,
   "metadata": {},
   "outputs": [
    {
     "data": {
      "text/plain": [
       "0.0    19858\n",
       "1.0      461\n",
       "Name: HEART_DEATH, dtype: int64"
      ]
     },
     "execution_count": 19,
     "metadata": {},
     "output_type": "execute_result"
    }
   ],
   "source": [
    "data['HEART_DEATH'].value_counts()"
   ]
  },
  {
   "cell_type": "code",
   "execution_count": 52,
   "metadata": {},
   "outputs": [
    {
     "data": {
      "text/plain": [
       "0    19769\n",
       "1      550\n",
       "Name: HEART_ATTACK, dtype: int64"
      ]
     },
     "execution_count": 52,
     "metadata": {},
     "output_type": "execute_result"
    }
   ],
   "source": [
    "data['HEART_ATTACK'].value_counts()"
   ]
  },
  {
   "cell_type": "code",
   "execution_count": 53,
   "metadata": {},
   "outputs": [],
   "source": [
    "data1 =  data.drop(columns = ['HADM_ID','ADMITTIME','DISCHTIME','DEATHTIME','ADMISSION_TYPE','DISCHARGE_LOCATION','EDREGTIME','EDOUTTIME'])"
   ]
  },
  {
   "cell_type": "code",
   "execution_count": 54,
   "metadata": {},
   "outputs": [],
   "source": [
    "data1 = data1.drop(columns = ['DIAGNOSIS','DOB','DOD','DOD_HOSP','DOD_SSN'])"
   ]
  },
  {
   "cell_type": "code",
   "execution_count": null,
   "metadata": {},
   "outputs": [],
   "source": [
    "data1 = data1.select_dtypes(exclude=['object'])\n",
    "data1 = data1.fillna(0)\n"
   ]
  },
  {
   "cell_type": "code",
   "execution_count": 61,
   "metadata": {},
   "outputs": [],
   "source": [
    "y = data1['HEART_DEATH']\n",
    "x = data1.drop(columns = ['HEART_DEATH'])\n",
    "from sklearn.model_selection import train_test_split\n",
    "X_train, X_test, Y_train, Y_test = train_test_split(x, y, test_size=0.20, random_state=42)\n"
   ]
  },
  {
   "cell_type": "code",
   "execution_count": null,
   "metadata": {},
   "outputs": [],
   "source": []
  }
 ],
 "metadata": {
  "kernelspec": {
   "display_name": "Python 3",
   "language": "python",
   "name": "python3"
  },
  "language_info": {
   "codemirror_mode": {
    "name": "ipython",
    "version": 3
   },
   "file_extension": ".py",
   "mimetype": "text/x-python",
   "name": "python",
   "nbconvert_exporter": "python",
   "pygments_lexer": "ipython3",
   "version": "3.7.4"
  }
 },
 "nbformat": 4,
 "nbformat_minor": 4
}
